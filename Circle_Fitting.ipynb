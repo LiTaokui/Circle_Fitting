{
  "nbformat": 4,
  "nbformat_minor": 0,
  "metadata": {
    "colab": {
      "provenance": [],
      "authorship_tag": "ABX9TyNrQcOsHysSaQaDg0MGDQOB",
      "include_colab_link": true
    },
    "kernelspec": {
      "name": "python3",
      "display_name": "Python 3"
    },
    "language_info": {
      "name": "python"
    }
  },
  "cells": [
    {
      "cell_type": "markdown",
      "metadata": {
        "id": "view-in-github",
        "colab_type": "text"
      },
      "source": [
        "<a href=\"https://colab.research.google.com/github/LiTaokui/Curve_Fitting/blob/main/Circle_Fitting.ipynb\" target=\"_parent\"><img src=\"https://colab.research.google.com/assets/colab-badge.svg\" alt=\"Open In Colab\"/></a>"
      ]
    },
    {
      "cell_type": "code",
      "source": [
        "import pandas as pd\n",
        "import matplotlib.pyplot as plt\n",
        "import numpy as np"
      ],
      "metadata": {
        "id": "YKURIko2EfVF"
      },
      "execution_count": 4,
      "outputs": []
    },
    {
      "cell_type": "code",
      "source": [
        "df = pd.read_excel(\"/content/edge-data_1C4A6507.JPG_v8.1.xlsx\")\n",
        "print(df)"
      ],
      "metadata": {
        "colab": {
          "base_uri": "https://localhost:8080/"
        },
        "id": "a46Mk-JiE-JK",
        "outputId": "2401d268-229a-4236-aa03-c6db74da86a1"
      },
      "execution_count": 61,
      "outputs": [
        {
          "output_type": "stream",
          "name": "stdout",
          "text": [
            "            x        y1        y2  one  Unnamed: 4  Unnamed: 5\n",
            "0    0.031847  1.178344  5.732484    1          37         180\n",
            "1    0.063694  1.178344  5.732484    1          37         180\n",
            "2    0.095541  1.210191  5.700637    1          38         179\n",
            "3    0.127389  1.210191  5.700637    1          38         179\n",
            "4    0.159236  1.210191  5.700637    1          38         179\n",
            "..        ...       ...       ...  ...         ...         ...\n",
            "143  4.585987  1.560510  5.668790    1          49         178\n",
            "144  4.617834  1.560510  5.668790    1          49         178\n",
            "145  4.649682  1.560510  5.668790    1          49         178\n",
            "146  4.681529  1.560510  5.668790    1          49         178\n",
            "147  4.713376  1.560510  5.668790    1          49         178\n",
            "\n",
            "[148 rows x 6 columns]\n"
          ]
        }
      ]
    },
    {
      "cell_type": "code",
      "source": [
        "x = list(df['x'])\n",
        "y1 = list(df['y1'])\n",
        "y2 = list(df['y2'])"
      ],
      "metadata": {
        "id": "misKQP3CFI0a"
      },
      "execution_count": 62,
      "outputs": []
    },
    {
      "cell_type": "code",
      "source": [
        "plt.scatter(x, y1)\n",
        "plt.scatter(x, y2)\n",
        "plt.show()"
      ],
      "metadata": {
        "colab": {
          "base_uri": "https://localhost:8080/",
          "height": 261
        },
        "id": "BNF6mB21FPAv",
        "outputId": "ff871dc2-3b5b-4a2c-9be2-5834f41cdb22"
      },
      "execution_count": 63,
      "outputs": [
        {
          "output_type": "display_data",
          "data": {
            "text/plain": [
              "<Figure size 504x252 with 1 Axes>"
            ],
            "image/png": "[encoded data removed]"
          },
          "metadata": {
            "needs_background": "light"
          }
        }
      ]
    },
    {
      "cell_type": "markdown",
      "source": [
        "#Not all the data points can be used to fit our circle!!!\n",
        "\n"
      ],
      "metadata": {
        "id": "1yMxXewwFUml"
      }
    },
    {
      "cell_type": "markdown",
      "source": [
        "We need to manually select data point that seems to fit out circle!"
      ],
      "metadata": {
        "id": "xosdI4RfFxs6"
      }
    },
    {
      "cell_type": "markdown",
      "source": [
        "This time we choose datapoint from 58 to 120!"
      ],
      "metadata": {
        "id": "TCPwMNi6Fo1N"
      }
    },
    {
      "cell_type": "code",
      "source": [
        "new_df = df.iloc[58:120, 0:4]\n",
        "new_df"
      ],
      "metadata": {
        "colab": {
          "base_uri": "https://localhost:8080/",
          "height": 424
        },
        "id": "A73FDnxoFn9J",
        "outputId": "b26b8602-e6e8-452b-ae0b-124e78adff4d"
      },
      "execution_count": 64,
      "outputs": [
        {
          "output_type": "execute_result",
          "data": {
            "text/plain": [
              "            x        y1        y2  one\n",
              "58   1.878981  1.592357  5.414013    1\n",
              "59   1.910828  1.624204  5.414013    1\n",
              "60   1.942675  1.592357  5.414013    1\n",
              "61   1.974522  1.592357  5.414013    1\n",
              "62   2.006369  1.624204  5.414013    1\n",
              "..        ...       ...       ...  ...\n",
              "115  3.694268  1.751592  5.382166    1\n",
              "116  3.726115  1.751592  5.414013    1\n",
              "117  3.757962  1.751592  5.414013    1\n",
              "118  3.789809  1.751592  5.445860    1\n",
              "119  3.821656  1.751592  5.445860    1\n",
              "\n",
              "[62 rows x 4 columns]"
            ],
            "text/html": [
              "\n",
              "  <div id=\"df-61eea8a4-6bfe-4698-9653-e0d3591f3e60\">\n",
              "    <div class=\"colab-df-container\">\n",
              "      <div>\n",
              "<style scoped>\n",
              "    .dataframe tbody tr th:only-of-type {\n",
              "        vertical-align: middle;\n",
              "    }\n",
              "\n",
              "    .dataframe tbody tr th {\n",
              "        vertical-align: top;\n",
              "    }\n",
              "\n",
              "    .dataframe thead th {\n",
              "        text-align: right;\n",
              "    }\n",
              "</style>\n",
              "<table border=\"1\" class=\"dataframe\">\n",
              "  <thead>\n",
              "    <tr style=\"text-align: right;\">\n",
              "      <th></th>\n",
              "      <th>x</th>\n",
              "      <th>y1</th>\n",
              "      <th>y2</th>\n",
              "      <th>one</th>\n",
              "    </tr>\n",
              "  </thead>\n",
              "  <tbody>\n",
              "    <tr>\n",
              "      <th>58</th>\n",
              "      <td>1.878981</td>\n",
              "      <td>1.592357</td>\n",
              "      <td>5.414013</td>\n",
              "      <td>1</td>\n",
              "    </tr>\n",
              "    <tr>\n",
              "      <th>59</th>\n",
              "      <td>1.910828</td>\n",
              "      <td>1.624204</td>\n",
              "      <td>5.414013</td>\n",
              "      <td>1</td>\n",
              "    </tr>\n",
              "    <tr>\n",
              "      <th>60</th>\n",
              "      <td>1.942675</td>\n",
              "      <td>1.592357</td>\n",
              "      <td>5.414013</td>\n",
              "      <td>1</td>\n",
              "    </tr>\n",
              "    <tr>\n",
              "      <th>61</th>\n",
              "      <td>1.974522</td>\n",
              "      <td>1.592357</td>\n",
              "      <td>5.414013</td>\n",
              "      <td>1</td>\n",
              "    </tr>\n",
              "    <tr>\n",
              "      <th>62</th>\n",
              "      <td>2.006369</td>\n",
              "      <td>1.624204</td>\n",
              "      <td>5.414013</td>\n",
              "      <td>1</td>\n",
              "    </tr>\n",
              "    <tr>\n",
              "      <th>...</th>\n",
              "      <td>...</td>\n",
              "      <td>...</td>\n",
              "      <td>...</td>\n",
              "      <td>...</td>\n",
              "    </tr>\n",
              "    <tr>\n",
              "      <th>115</th>\n",
              "      <td>3.694268</td>\n",
              "      <td>1.751592</td>\n",
              "      <td>5.382166</td>\n",
              "      <td>1</td>\n",
              "    </tr>\n",
              "    <tr>\n",
              "      <th>116</th>\n",
              "      <td>3.726115</td>\n",
              "      <td>1.751592</td>\n",
              "      <td>5.414013</td>\n",
              "      <td>1</td>\n",
              "    </tr>\n",
              "    <tr>\n",
              "      <th>117</th>\n",
              "      <td>3.757962</td>\n",
              "      <td>1.751592</td>\n",
              "      <td>5.414013</td>\n",
              "      <td>1</td>\n",
              "    </tr>\n",
              "    <tr>\n",
              "      <th>118</th>\n",
              "      <td>3.789809</td>\n",
              "      <td>1.751592</td>\n",
              "      <td>5.445860</td>\n",
              "      <td>1</td>\n",
              "    </tr>\n",
              "    <tr>\n",
              "      <th>119</th>\n",
              "      <td>3.821656</td>\n",
              "      <td>1.751592</td>\n",
              "      <td>5.445860</td>\n",
              "      <td>1</td>\n",
              "    </tr>\n",
              "  </tbody>\n",
              "</table>\n",
              "<p>62 rows × 4 columns</p>\n",
              "</div>\n",
              "      <button class=\"colab-df-convert\" onclick=\"convertToInteractive('df-61eea8a4-6bfe-4698-9653-e0d3591f3e60')\"\n",
              "              title=\"Convert this dataframe to an interactive table.\"\n",
              "              style=\"display:none;\">\n",
              "        \n",
              "  <svg xmlns=\"http://www.w3.org/2000/svg\" height=\"24px\"viewBox=\"0 0 24 24\"\n",
              "       width=\"24px\">\n",
              "    <path d=\"M0 0h24v24H0V0z\" fill=\"none\"/>\n",
              "    <path d=\"M18.56 5.44l.94 2.06.94-2.06 2.06-.94-2.06-.94-.94-2.06-.94 2.06-2.06.94zm-11 1L8.5 8.5l.94-2.06 2.06-.94-2.06-.94L8.5 2.5l-.94 2.06-2.06.94zm10 10l.94 2.06.94-2.06 2.06-.94-2.06-.94-.94-2.06-.94 2.06-2.06.94z\"/><path d=\"M17.41 7.96l-1.37-1.37c-.4-.4-.92-.59-1.43-.59-.52 0-1.04.2-1.43.59L10.3 9.45l-7.72 7.72c-.78.78-.78 2.05 0 2.83L4 21.41c.39.39.9.59 1.41.59.51 0 1.02-.2 1.41-.59l7.78-7.78 2.81-2.81c.8-.78.8-2.07 0-2.86zM5.41 20L4 18.59l7.72-7.72 1.47 1.35L5.41 20z\"/>\n",
              "  </svg>\n",
              "      </button>\n",
              "      \n",
              "  <style>\n",
              "    .colab-df-container {\n",
              "      display:flex;\n",
              "      flex-wrap:wrap;\n",
              "      gap: 12px;\n",
              "    }\n",
              "\n",
              "    .colab-df-convert {\n",
              "      background-color: #E8F0FE;\n",
              "      border: none;\n",
              "      border-radius: 50%;\n",
              "      cursor: pointer;\n",
              "      display: none;\n",
              "      fill: #1967D2;\n",
              "      height: 32px;\n",
              "      padding: 0 0 0 0;\n",
              "      width: 32px;\n",
              "    }\n",
              "\n",
              "    .colab-df-convert:hover {\n",
              "      background-color: #E2EBFA;\n",
              "      box-shadow: 0px 1px 2px rgba(60, 64, 67, 0.3), 0px 1px 3px 1px rgba(60, 64, 67, 0.15);\n",
              "      fill: #174EA6;\n",
              "    }\n",
              "\n",
              "    [theme=dark] .colab-df-convert {\n",
              "      background-color: #3B4455;\n",
              "      fill: #D2E3FC;\n",
              "    }\n",
              "\n",
              "    [theme=dark] .colab-df-convert:hover {\n",
              "      background-color: #434B5C;\n",
              "      box-shadow: 0px 1px 3px 1px rgba(0, 0, 0, 0.15);\n",
              "      filter: drop-shadow(0px 1px 2px rgba(0, 0, 0, 0.3));\n",
              "      fill: #FFFFFF;\n",
              "    }\n",
              "  </style>\n",
              "\n",
              "      <script>\n",
              "        const buttonEl =\n",
              "          document.querySelector('#df-61eea8a4-6bfe-4698-9653-e0d3591f3e60 button.colab-df-convert');\n",
              "        buttonEl.style.display =\n",
              "          google.colab.kernel.accessAllowed ? 'block' : 'none';\n",
              "\n",
              "        async function convertToInteractive(key) {\n",
              "          const element = document.querySelector('#df-61eea8a4-6bfe-4698-9653-e0d3591f3e60');\n",
              "          const dataTable =\n",
              "            await google.colab.kernel.invokeFunction('convertToInteractive',\n",
              "                                                     [key], {});\n",
              "          if (!dataTable) return;\n",
              "\n",
              "          const docLinkHtml = 'Like what you see? Visit the ' +\n",
              "            '<a target=\"_blank\" href=https://colab.research.google.com/notebooks/data_table.ipynb>data table notebook</a>'\n",
              "            + ' to learn more about interactive tables.';\n",
              "          element.innerHTML = '';\n",
              "          dataTable['output_type'] = 'display_data';\n",
              "          await google.colab.output.renderOutput(dataTable, element);\n",
              "          const docLink = document.createElement('div');\n",
              "          docLink.innerHTML = docLinkHtml;\n",
              "          element.appendChild(docLink);\n",
              "        }\n",
              "      </script>\n",
              "    </div>\n",
              "  </div>\n",
              "  "
            ]
          },
          "metadata": {},
          "execution_count": 64
        }
      ]
    },
    {
      "cell_type": "code",
      "source": [
        "x_new = list(new_df['x'])\n",
        "y1_new = list(new_df['y1'])\n",
        "y2_new = list(new_df['y2'])\n",
        "y3_new = list(new_df['one'])"
      ],
      "metadata": {
        "id": "j9Ds5yN-FYMA"
      },
      "execution_count": 65,
      "outputs": []
    },
    {
      "cell_type": "code",
      "source": [
        "plt.scatter(x_new, y1_new)\n",
        "plt.scatter(x_new, y2_new)\n",
        "plt.show()"
      ],
      "metadata": {
        "colab": {
          "base_uri": "https://localhost:8080/",
          "height": 261
        },
        "id": "izJXOPANGHJq",
        "outputId": "5aff4f4e-0e2f-4e7c-fbc2-0f3ecaebc62b"
      },
      "execution_count": 66,
      "outputs": [
        {
          "output_type": "display_data",
          "data": {
            "text/plain": [
              "<Figure size 504x252 with 1 Axes>"
            ],
            "image/png": "[encoded data removed]"
          },
          "metadata": {
            "needs_background": "light"
          }
        }
      ]
    },
    {
      "cell_type": "markdown",
      "source": [
        "That looks better!"
      ],
      "metadata": {
        "id": "VaJ1-0kiGNt_"
      }
    },
    {
      "cell_type": "code",
      "source": [
        "result = new_df.dtypes\n",
        "result"
      ],
      "metadata": {
        "colab": {
          "base_uri": "https://localhost:8080/"
        },
        "id": "tGyiSKYnGJXm",
        "outputId": "ddd1eada-f760-4d44-c6ab-b385b5dc2f3b"
      },
      "execution_count": 67,
      "outputs": [
        {
          "output_type": "execute_result",
          "data": {
            "text/plain": [
              "x      float64\n",
              "y1     float64\n",
              "y2     float64\n",
              "one      int64\n",
              "dtype: object"
            ]
          },
          "metadata": {},
          "execution_count": 67
        }
      ]
    },
    {
      "cell_type": "code",
      "source": [
        "ones = np.ones_like(x_new)\n",
        "ones"
      ],
      "metadata": {
        "colab": {
          "base_uri": "https://localhost:8080/"
        },
        "id": "B1PHxrKEGfP7",
        "outputId": "54954dcd-7fc6-41c0-857e-1f81c0748c15"
      },
      "execution_count": 73,
      "outputs": [
        {
          "output_type": "execute_result",
          "data": {
            "text/plain": [
              "array([1., 1., 1., 1., 1., 1., 1., 1., 1., 1., 1., 1., 1., 1., 1., 1., 1.,\n",
              "       1., 1., 1., 1., 1., 1., 1., 1., 1., 1., 1., 1., 1., 1., 1., 1., 1.,\n",
              "       1., 1., 1., 1., 1., 1., 1., 1., 1., 1., 1., 1., 1., 1., 1., 1., 1.,\n",
              "       1., 1., 1., 1., 1., 1., 1., 1., 1., 1., 1.])"
            ]
          },
          "metadata": {},
          "execution_count": 73
        }
      ]
    },
    {
      "cell_type": "markdown",
      "source": [
        "Blue Line Curve Fitting"
      ],
      "metadata": {
        "id": "w6ncFZLgH8sh"
      }
    },
    {
      "cell_type": "code",
      "source": [
        "x_new = np.array(x_new)\n",
        "y1_new = np.array(y1_new)\n",
        "A1 = np.c_[-2*x_new,-2*y1_new,ones]\n",
        "A1_Trans = A1.T"
      ],
      "metadata": {
        "id": "EI7ItuFqGkqs"
      },
      "execution_count": 71,
      "outputs": []
    },
    {
      "cell_type": "code",
      "source": [
        "x0,y0,b=np.linalg.solve(A1_Trans@A1,A1_Trans@(-(x_new**2)-(y1_new**2)))\n",
        "x0,y0"
      ],
      "metadata": {
        "colab": {
          "base_uri": "https://localhost:8080/"
        },
        "id": "9zamjyKQGt9T",
        "outputId": "02650cc0-d869-4171-967e-47d7222eb679"
      },
      "execution_count": 75,
      "outputs": [
        {
          "output_type": "execute_result",
          "data": {
            "text/plain": [
              "(3.1063105231132826, -1.0795617038851228)"
            ]
          },
          "metadata": {},
          "execution_count": 75
        }
      ]
    },
    {
      "cell_type": "code",
      "source": [
        "r_1 = np.sqrt(x0**2+y0**2-b)\n",
        "r_1"
      ],
      "metadata": {
        "colab": {
          "base_uri": "https://localhost:8080/"
        },
        "id": "2h6-pzciGyD4",
        "outputId": "14a68212-ea23-48c5-a218-81e254a0b024"
      },
      "execution_count": 76,
      "outputs": [
        {
          "output_type": "execute_result",
          "data": {
            "text/plain": [
              "2.904177304747073"
            ]
          },
          "metadata": {},
          "execution_count": 76
        }
      ]
    },
    {
      "cell_type": "code",
      "source": [
        "from matplotlib import pyplot as plt, patches\n",
        "plt.rcParams[\"figure.figsize\"] = [7, 3.5]\n",
        "plt.rcParams[\"figure.autolayout\"] = True\n",
        "fig = plt.figure()\n",
        "ax = fig.add_subplot()\n",
        "circle1 = patches.Circle((x0, y0), radius=r_1, color='red')\n",
        "ax.add_patch(circle1)\n",
        "ax.axis('equal')\n",
        "plt.scatter(x, y1)\n",
        "plt.scatter(x, y2)\n",
        "plt.xlim(1, 4.5)\n",
        "plt.ylim(0, 2.5)\n",
        "plt.show()"
      ],
      "metadata": {
        "colab": {
          "base_uri": "https://localhost:8080/",
          "height": 261
        },
        "id": "gzdelBxEG7g6",
        "outputId": "d54cf314-6d8a-468a-9bfe-bd3e73a6ea17"
      },
      "execution_count": 90,
      "outputs": [
        {
          "output_type": "display_data",
          "data": {
            "text/plain": [
              "<Figure size 504x252 with 1 Axes>"
            ],
            "image/png": "[encoded data removed]"
          },
          "metadata": {
            "needs_background": "light"
          }
        }
      ]
    },
    {
      "cell_type": "markdown",
      "source": [
        "Similarly, we can also make Orange Line Curve Fitting"
      ],
      "metadata": {
        "id": "2j7kiygvKsBx"
      }
    },
    {
      "cell_type": "code",
      "source": [
        "x_new = np.array(x_new)\n",
        "y2_new = np.array(y2_new)\n",
        "A2 = np.c_[-2*x_new,-2*y2_new,ones]\n",
        "A2_Trans = A2.T"
      ],
      "metadata": {
        "id": "WJQqKDpGK7-M"
      },
      "execution_count": 91,
      "outputs": []
    },
    {
      "cell_type": "code",
      "source": [
        "x0_0,y0_0,b_0=np.linalg.solve(A2_Trans@A2,A2_Trans@(-(x_new**2)-(y2_new**2)))\n",
        "x0_0,y0_0"
      ],
      "metadata": {
        "colab": {
          "base_uri": "https://localhost:8080/"
        },
        "id": "B-WfJ2RyLF-u",
        "outputId": "e066c47f-6985-457c-8477-89ebfb22ab2e"
      },
      "execution_count": 92,
      "outputs": [
        {
          "output_type": "execute_result",
          "data": {
            "text/plain": [
              "(2.862765891536298, 7.768220787097366)"
            ]
          },
          "metadata": {},
          "execution_count": 92
        }
      ]
    },
    {
      "cell_type": "code",
      "source": [
        "r_2 = np.sqrt(x0_0**2+y0_0**2-b_0)\n",
        "r_2"
      ],
      "metadata": {
        "colab": {
          "base_uri": "https://localhost:8080/"
        },
        "id": "8FsDtOYGLQgK",
        "outputId": "70c4e009-0dcb-415e-d5b4-b342bffb441e"
      },
      "execution_count": 93,
      "outputs": [
        {
          "output_type": "execute_result",
          "data": {
            "text/plain": [
              "2.511381907804085"
            ]
          },
          "metadata": {},
          "execution_count": 93
        }
      ]
    },
    {
      "cell_type": "code",
      "source": [
        "from matplotlib import pyplot as plt, patches\n",
        "plt.rcParams[\"figure.figsize\"] = [7, 3.5]\n",
        "plt.rcParams[\"figure.autolayout\"] = True\n",
        "fig = plt.figure()\n",
        "ax = fig.add_subplot()\n",
        "circle1 = patches.Circle((x0_0, y0_0), radius=r_2, color='red')\n",
        "ax.add_patch(circle1)\n",
        "ax.axis('equal')\n",
        "plt.scatter(x, y1)\n",
        "plt.scatter(x, y2)\n",
        "plt.xlim(1, 4.5)\n",
        "plt.ylim(5, 6)\n",
        "plt.show()"
      ],
      "metadata": {
        "colab": {
          "base_uri": "https://localhost:8080/",
          "height": 261
        },
        "id": "GwiIKd6rLXcq",
        "outputId": "6050dd3b-8b88-493d-a0cf-a64213636ac2"
      },
      "execution_count": 99,
      "outputs": [
        {
          "output_type": "display_data",
          "data": {
            "text/plain": [
              "<Figure size 504x252 with 1 Axes>"
            ],
            "image/png": "[encoded data removed]"
          },
          "metadata": {
            "needs_background": "light"
          }
        }
      ]
    },
    {
      "cell_type": "markdown",
      "source": [
        "Put them together!"
      ],
      "metadata": {
        "id": "FyRsED2kLy0W"
      }
    },
    {
      "cell_type": "code",
      "source": [
        "from matplotlib import pyplot as plt, patches\n",
        "plt.rcParams[\"figure.figsize\"] = [7, 3.5]\n",
        "plt.rcParams[\"figure.autolayout\"] = True\n",
        "fig = plt.figure()\n",
        "ax = fig.add_subplot()\n",
        "circle1 = patches.Circle((x0, y0), radius=r_1, color='red')\n",
        "circle2 = patches.Circle((x0_0, y0_0), radius=r_2, color='red')\n",
        "ax.add_patch(circle1)\n",
        "ax.add_patch(circle2)\n",
        "ax.axis('equal')\n",
        "plt.scatter(x, y1)\n",
        "plt.scatter(x, y2)\n",
        "\n",
        "plt.show()"
      ],
      "metadata": {
        "colab": {
          "base_uri": "https://localhost:8080/",
          "height": 261
        },
        "id": "qwYeoPZgL1Zi",
        "outputId": "6d8d2cd8-fd5f-4d34-8ac4-aaf27c019342"
      },
      "execution_count": 98,
      "outputs": [
        {
          "output_type": "display_data",
          "data": {
            "text/plain": [
              "<Figure size 504x252 with 1 Axes>"
            ],
            "image/png": "[encoded data removed]"
          },
          "metadata": {
            "needs_background": "light"
          }
        }
      ]
    }
  ]
}